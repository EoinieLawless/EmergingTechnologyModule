{
 "cells": [
  {
   "cell_type": "markdown",
   "metadata": {},
   "source": [
    "# Emerging Technology - Tasks\n",
    "\n",
    "**This is a jupyter Notebook is meant for the containment of Task essays**\n",
    "\n",
    "**Made by Eoin Lawless**\n",
    "\n"
   ]
  },
  {
   "cell_type": "markdown",
   "metadata": {},
   "source": [
    "**Index Page**\n",
    "\n",
    ">[Task 1 - The Collatz conjecture ](#Task-1)\n",
    "\n",
    ">[Task 2 - Square Root Python ](#Task-2)\n",
    "\n",
    ">[Task 3 - Random Bit functions ](#Task-3)\n",
    "\n",
    ">[Task 4 - Matrice Multiplication ](#Task-4)\n",
    "\n",
    "\n",
    "***"
   ]
  },
  {
   "cell_type": "markdown",
   "metadata": {},
   "source": [
    "# Task 1\n",
    "\n",
    "### The Collatz conjecture \n",
    "\n",
    "The Collatz conjecture is a famous unsolved problem in mathematics, it goes as follows: \n",
    "> Take any positive integer n. If n is even then divide it by 2, else do ”triple plus one” and get 3n + 1. The conjecture is that for all numbers, this process converges to one.\n",
    "\n",
    "Your task is to verify, using python, that the conjecture is true for the first 10,000 positive integers.\n",
    "\n"
   ]
  },
  {
   "cell_type": "code",
   "execution_count": 1,
   "metadata": {},
   "outputs": [
    {
     "name": "stdout",
     "output_type": "stream",
     "text": [
      "The Collatz conjecture is correct for the first 10'000 positive ints.\n"
     ]
    }
   ],
   "source": [
    "def collatz_sequence(n):\n",
    "    sequence = [n]\n",
    "    while n != 1:\n",
    "        if n % 2 == 0:\n",
    "            n = n // 2\n",
    "        else:\n",
    "            n = 3 * n + 1\n",
    "        sequence.append(n)\n",
    "    return sequence\n",
    "\n",
    "def verify_collatz_conjecture(limit):\n",
    "    for i in range(1, limit + 1):\n",
    "        sequence = collatz_sequence(i)\n",
    "        if sequence[-1] != 1:\n",
    "            return False\n",
    "    return True\n",
    "\n",
    "if verify_collatz_conjecture(10000):\n",
    "    print(\"The Collatz conjecture is correct for the first 10'000 positive ints.\")\n",
    "else:\n",
    "    print(\"The Collatz conjecture is incorrect for at the minimum, one of the first 10'000 positive ints.\")\n"
   ]
  },
  {
   "cell_type": "markdown",
   "metadata": {},
   "source": [
    "***\n",
    "\n",
    "# Task 2\n",
    "\n",
    "### Newtons method through Python \n",
    "\n",
    "Square roots are difficult to calculate. In Python, you typically use the power operator (a double asterisk) or a package such as math. In this task, you should write a function sqrt(x) to approximate the square root of a floating point number x without using the power operator or a package.\n",
    "\n",
    "Rather, you should use the Newton’s method. Start with an initial guess for the square root called z0. You then repeatedly improve it using the following formula, until the difference between some previous guess zi and the next zi+1 is less than some threshold, say 0.01.\n",
    " "
   ]
  },
  {
   "cell_type": "code",
   "execution_count": 2,
   "metadata": {},
   "outputs": [
    {
     "name": "stdout",
     "output_type": "stream",
     "text": [
      "Square root of 16.0 is approximately 4.0000001858445895\n",
      "Square root of 49.0 is approximately 7.000000094930961\n",
      "Square root of 100.0 is approximately 10.000000000107445\n"
     ]
    }
   ],
   "source": [
    "def sqrt(x):\n",
    "    \n",
    "    z0 = x / 2.0\n",
    "\n",
    "    threshold = 0.01\n",
    "    \n",
    "    while True:\n",
    "        # Calculate the next approximation using Newton's method\n",
    "        z1 = (z0 + x / z0) / 2.0\n",
    "        \n",
    "        # Check if less than the thresold\n",
    "        if abs(z1 - z0) < threshold:\n",
    "            break\n",
    "        \n",
    "        # Update the current guess for the next iteration\n",
    "        z0 = z1\n",
    "    \n",
    "    return z1\n",
    "\n",
    "# Test 1\n",
    "x = 16.0\n",
    "result = sqrt(x)\n",
    "print(f\"Square root of {x} is approximately {result}\")\n",
    "\n",
    "# Test 2\n",
    "x = 49.0\n",
    "result = sqrt(x)\n",
    "print(f\"Square root of {x} is approximately {result}\")\n",
    "\n",
    "# Test 3\n",
    "x = 100.0\n",
    "result = sqrt(x)\n",
    "print(f\"Square root of {x} is approximately {result}\")\n",
    "\n"
   ]
  },
  {
   "cell_type": "markdown",
   "metadata": {},
   "source": [
    "***"
   ]
  },
  {
   "cell_type": "markdown",
   "metadata": {},
   "source": [
    "\n",
    "\n",
    "# Task 3\n",
    "\n",
    "### 4 Bit functions \n",
    "\n",
    "Consider all possible functions taking four bits as input and outputting a single bit. How many such possible functions are there?\n",
    "\n",
    "You can ignore any internal workings of the function, just focus on how manyways there are of having four bits of input and one bit of output.\n",
    "\n",
    "Write Python code to select one such function at random out of all the possibilities. Suppose the only way you can figure out what the function is, is by calling it with different inputs and checking the outputs. How many times do you need to call the function to be certain which function it is\n",
    "\n",
    "Here's the code of 16 possible output values:\n",
    " "
   ]
  },
  {
   "cell_type": "code",
   "execution_count": 3,
   "metadata": {},
   "outputs": [
    {
     "name": "stdout",
     "output_type": "stream",
     "text": [
      " 4 Bits Input: [0, 0, 0, 0], 1 Bit Output: 0\n",
      " 4 Bits Input: [0, 0, 0, 1], 1 Bit Output: 0\n",
      " 4 Bits Input: [0, 0, 1, 0], 1 Bit Output: 0\n",
      " 4 Bits Input: [0, 0, 1, 1], 1 Bit Output: 1\n",
      " 4 Bits Input: [0, 1, 0, 0], 1 Bit Output: 0\n",
      " 4 Bits Input: [0, 1, 0, 1], 1 Bit Output: 0\n",
      " 4 Bits Input: [0, 1, 1, 0], 1 Bit Output: 1\n",
      " 4 Bits Input: [0, 1, 1, 1], 1 Bit Output: 0\n",
      " 4 Bits Input: [1, 0, 0, 0], 1 Bit Output: 1\n",
      " 4 Bits Input: [1, 0, 0, 1], 1 Bit Output: 1\n",
      " 4 Bits Input: [1, 0, 1, 0], 1 Bit Output: 1\n",
      " 4 Bits Input: [1, 0, 1, 1], 1 Bit Output: 1\n",
      " 4 Bits Input: [1, 1, 0, 0], 1 Bit Output: 1\n",
      " 4 Bits Input: [1, 1, 0, 1], 1 Bit Output: 1\n",
      " 4 Bits Input: [1, 1, 1, 0], 1 Bit Output: 0\n",
      " 4 Bits Input: [1, 1, 1, 1], 1 Bit Output: 1\n"
     ]
    }
   ],
   "source": [
    "import random\n",
    "\n",
    "# This creates a Random function as a list of 16 output values \n",
    "# (16 because all possible input combinations when you have 4 input bits )\n",
    "Random_function = [random.randint(0, 1) for _ in range(16)]\n",
    "\n",
    "# Take all the list of inputs, (e.g. [0, 1, 0, 1]), \n",
    "def evaluate_function(input_bits, function):\n",
    "    # Change the binary input to an integer index\n",
    "    index = sum(bit * (2 ** (len(input_bits) - 1 - i)) for i, bit in enumerate(input_bits))\n",
    "    \n",
    "    # get the output value from the function list\n",
    "    return function[index]\n",
    "\n",
    "\n",
    "# Test different inputs to identify the function\n",
    "def identify_function(function):\n",
    "    for i in range(16):\n",
    "        input_bits = [int(bit) for bit in bin(i)[2:].zfill(4)]\n",
    "        output = evaluate_function(input_bits, function)\n",
    "        print(f\" 4 Bits Input: {input_bits}, 1 Bit Output: {output}\")\n",
    "\n",
    "# Call the function to identify it\n",
    "identify_function(Random_function)\n"
   ]
  },
  {
   "cell_type": "markdown",
   "metadata": {},
   "source": [
    "*** \n",
    "\n",
    "# Task 4 \n",
    "\n",
    "Write a function that performs matrix multiplication on two rectangular lists containing floats in python "
   ]
  },
  {
   "cell_type": "code",
   "execution_count": 4,
   "metadata": {},
   "outputs": [
    {
     "name": "stdout",
     "output_type": "stream",
     "text": [
      "[[10.499995, 11.083326, 22.983323], [9.8, 9.44, 21.72], [12.05, 14.96, 25.71]]\n"
     ]
    }
   ],
   "source": [
    "def matrix_multiplication(matrix1, matrix2):\n",
    "    if len(matrix1[0]) != len(matrix2):\n",
    "        return \"Cannot perform matrix multiplication, the Inner dimensions do not match.\"\n",
    "\n",
    "    result = [[0 for _ in range(len(matrix2[0]))] for _ in range(len(matrix1))]\n",
    "\n",
    "    for i in range(len(matrix1)):\n",
    "        for j in range(len(matrix2[0])):\n",
    "            for k in range(len(matrix2)):\n",
    "                result[i][j] += matrix1[i][k] * matrix2[k][j]\n",
    "\n",
    "    return result\n",
    "\n",
    "# Examples:\n",
    "\n",
    "matrix_a = [\n",
    "    [2.33333, 3.5],\n",
    "    [1.2, 4.0],\n",
    "    [5.1, 2.2]\n",
    "]\n",
    "\n",
    "matrix_b = [\n",
    "    [1.5, 2.2, 3.1],\n",
    "    [2.0, 1.7, 4.5]\n",
    "]\n",
    "\n",
    "result = matrix_multiplication(matrix_a, matrix_b)\n",
    "print(result)\n"
   ]
  },
  {
   "cell_type": "markdown",
   "metadata": {},
   "source": [
    "*** \n",
    "\n",
    "### The End "
   ]
  }
 ],
 "metadata": {
  "kernelspec": {
   "display_name": "Python 3 (ipykernel)",
   "language": "python",
   "name": "python3"
  },
  "language_info": {
   "codemirror_mode": {
    "name": "ipython",
    "version": 3
   },
   "file_extension": ".py",
   "mimetype": "text/x-python",
   "name": "python",
   "nbconvert_exporter": "python",
   "pygments_lexer": "ipython3",
   "version": "3.9.13"
  }
 },
 "nbformat": 4,
 "nbformat_minor": 2
}
