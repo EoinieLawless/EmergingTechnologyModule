{
 "cells": [
  {
   "cell_type": "markdown",
   "metadata": {},
   "source": [
    "# Emerging Technology - Tasks\n",
    "\n",
    "**This is a jupyter Notebook is meant for the containment of Task essays**\n",
    "\n"
   ]
  },
  {
   "cell_type": "markdown",
   "metadata": {},
   "source": [
    "**Index Page**\n",
    "\n",
    ">[Task 1 - The Collatz conjecture ](#Task1)\n",
    "\n",
    ">[Task 2 - Square Root Python ](#Task2)\n",
    "\n",
    ">[References](#References)\n",
    "\n",
    "***"
   ]
  },
  {
   "cell_type": "markdown",
   "metadata": {},
   "source": [
    "# Task1\n",
    "\n",
    "### The Collatz conjecture \n",
    "\n",
    "The Collatz conjecture is a famous unsolved problem in mathematics, it goes as follows: \n",
    "> Take any positive integer n. If n is even then divide it by 2, else do ”triple plus one” and get 3n + 1. The conjecture is that for all numbers, this process converges to one.\n",
    "\n",
    "Your task is to verify, using python, that the conjecture is true for the first 10,000 positive integers.\n",
    "\n"
   ]
  },
  {
   "cell_type": "code",
   "execution_count": 12,
   "metadata": {},
   "outputs": [
    {
     "name": "stdout",
     "output_type": "stream",
     "text": [
      "The Collatz conjecture is verified for the first 10,000 positive integers.\n"
     ]
    }
   ],
   "source": [
    "def collatz_sequence(n):\n",
    "    sequence = [n]\n",
    "    while n != 1:\n",
    "        if n % 2 == 0:\n",
    "            n = n // 2\n",
    "        else:\n",
    "            n = 3 * n + 1\n",
    "        sequence.append(n)\n",
    "    return sequence\n",
    "\n",
    "def verify_collatz_conjecture(limit):\n",
    "    for i in range(1, limit + 1):\n",
    "        sequence = collatz_sequence(i)\n",
    "        if sequence[-1] != 1:\n",
    "            return False\n",
    "    return True\n",
    "\n",
    "if verify_collatz_conjecture(10000):\n",
    "    print(\"The Collatz conjecture is verified for the first 10,000 positive integers.\")\n",
    "else:\n",
    "    print(\"The Collatz conjecture is not verified for at least one of the first 10,000 positive integers.\")\n"
   ]
  },
  {
   "cell_type": "markdown",
   "metadata": {},
   "source": [
    "***\n",
    "\n",
    "# Task2\n",
    "\n",
    "### Newtons method through Python \n",
    "\n",
    "Square roots are difficult to calculate. In Python, you typically use the power operator (a double asterisk) or a package such as math. In this task, you should write a function sqrt(x) to approximate the square root of a floating point number x without using the power operator or a package.\n",
    "\n",
    "Rather, you should use the Newton’s method. Start with an initial guess for the square root called z0. You then repeatedly improve it using the following formula, until the difference between some previous guess zi and the next zi+1 is less than some threshold, say 0.01.\n",
    " "
   ]
  },
  {
   "cell_type": "code",
   "execution_count": 13,
   "metadata": {},
   "outputs": [
    {
     "name": "stdout",
     "output_type": "stream",
     "text": [
      "Square root of 16.0 is approximately 4.0000001858445895\n",
      "Square root of 49.0 is approximately 7.000000094930961\n",
      "Square root of 100.0 is approximately 10.000000000107445\n"
     ]
    }
   ],
   "source": [
    "def sqrt(x):\n",
    "    \n",
    "    z0 = x / 2.0\n",
    "\n",
    "    threshold = 0.01\n",
    "    \n",
    "    while True:\n",
    "        # Calculate the next approximation using Newton's method\n",
    "        z1 = (z0 + x / z0) / 2.0\n",
    "        \n",
    "        # Check if less than the thresold\n",
    "        if abs(z1 - z0) < threshold:\n",
    "            break\n",
    "        \n",
    "        # Update the current guess for the next iteration\n",
    "        z0 = z1\n",
    "    \n",
    "    return z1\n",
    "\n",
    "# Test 1\n",
    "x = 16.0\n",
    "result = sqrt(x)\n",
    "print(f\"Square root of {x} is approximately {result}\")\n",
    "\n",
    "# Test 2\n",
    "x = 49.0\n",
    "result = sqrt(x)\n",
    "print(f\"Square root of {x} is approximately {result}\")\n",
    "\n",
    "# Test 3\n",
    "x = 100.0\n",
    "result = sqrt(x)\n",
    "print(f\"Square root of {x} is approximately {result}\")\n",
    "\n"
   ]
  },
  {
   "cell_type": "markdown",
   "metadata": {},
   "source": [
    "***"
   ]
  }
 ],
 "metadata": {
  "kernelspec": {
   "display_name": "Python 3 (ipykernel)",
   "language": "python",
   "name": "python3"
  },
  "language_info": {
   "codemirror_mode": {
    "name": "ipython",
    "version": 3
   },
   "file_extension": ".py",
   "mimetype": "text/x-python",
   "name": "python",
   "nbconvert_exporter": "python",
   "pygments_lexer": "ipython3",
   "version": "3.9.13"
  }
 },
 "nbformat": 4,
 "nbformat_minor": 2
}
