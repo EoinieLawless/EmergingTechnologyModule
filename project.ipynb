{
 "cells": [
  {
   "cell_type": "markdown",
   "metadata": {},
   "source": [
    "# Emerging Technology Project -\n",
    "## **The Deutsch–Jozsa algorithm** \n",
    "\n",
    "#### To first understand \"The Deutsch–Jozsa algorithm\", we have to first learn about the basics of Quantum Computing\n",
    "\n",
    "*** "
   ]
  },
  {
   "cell_type": "markdown",
   "metadata": {},
   "source": [
    "The point of this Journal is to\n",
    "\n",
    "- Explore Deutsch-jozha algorithm \n",
    "- how to solve the problem \n",
    "- build quantum circuits using Qiskit to implement the algorithm, inlcude oracle circuits to demonstrate \n",
    "- simulate the circuit to demonstrate the efficacy of the algorithm "
   ]
  },
  {
   "cell_type": "markdown",
   "metadata": {},
   "source": [
    "**Index Page**\n",
    "\n",
    ">[Introduction- Quantum Computing](#What-is-Quantum-Computing)\n",
    "\n",
    ">[Bits and Qubits ](#Bits-and-Qubits )\n",
    "\n",
    ">[Deutsch's Algorithm](#Deutsch's-Algorithm)\n",
    "\n",
    ">[Circuit Design](#Circuit-Design)\n",
    "\n",
    ">[References](#References)\n",
    "\n",
    ">[](#)\n",
    "\n",
    "***"
   ]
  },
  {
   "cell_type": "markdown",
   "metadata": {},
   "source": [
    "# What is Quantum Computing \n",
    "\n",
    "To know about what Quantum computing is, you need first an explaination of Classical computing.\n",
    "\n",
    "### Classical\n",
    "A classical computer, Like the one you are using right now,  uses bits as the basic unit of information, which can represent either a 0 or a 1 (These are also called states). A byte is a collection of these bits, which can be used to create larger units like characters and numbers.<a href=\"https://devtechnosys.com/insights/tech-comparison/quantum-computing-vs-classical-computing/#:~:text=The%20classical%20bit%20is%20the%20basic%20unit%20in,of%20a%20given%20input%20is%20always%20the%20same.\">[2]<a></a>\n",
    "\n",
    "![Alt text](https://tse4.mm.bing.net/th?id=OIP.GT4sK7zXQmuFxnd9ivs5IwHaE8&pid=Api&P=0&h=180)\n",
    "\n",
    "In classical computing, operations are performed on these bits, and programs are executed by manipulating sequences of bits. It's the foundation of most of the computing technology we use daily.\n",
    "\n",
    "\n",
    "<a href=\"https://learning.quantum-computing.ibm.com/course/basics-of-quantum-information/single-systems#quantum-information\">[1]<a>\n",
    "\n",
    "\n",
    "\n",
    "\n",
    "### Quantum\n",
    "Quantum computers, on the other hand, use quantum bits or qubits, which can represent 0, 1, or any combination of both simultaneously due to a property called superposition.\n",
    "<a href=\"https://learning.quantum-computing.ibm.com/course/basics-of-quantum-information/single-systems#quantum-information\">[1]<a>\n",
    "<a href=\"https://scienceexchange.caltech.edu/topics/quantum-science-explained/quantum-computing-computers\">[3]<a></a>\n",
    "\n",
    "## \n",
    "\n",
    "***"
   ]
  },
  {
   "cell_type": "markdown",
   "metadata": {},
   "source": [
    "# Bits and Qubits \n",
    "\n",
    "### To look more at these Bits and Qubits mentioned before...\n",
    "\n",
    "*Bits* are building blocks to all the data and operations in processes in classical computers comprised of 0 or 1. This as previously said can can be grouped and turned into larger characters and numbers as Bytes (Groups of 8 bits). In more modern day computing, these bits are shown by the the lack or presence of an electrical signal, giving the 0 or 1. \n",
    "\n",
    "In mathematical terms the bit can be of two states, \"ON\" or \"OFF\". A cosntant 50/50 flip of a coin. The states are mutually exclusive.\n",
    "\n",
    "A *quibit* (Quantum bit) can also be comprised of 0 or 1, but also a quantum superpostion of 0 or 1. In short terms, this means the a quibit\n",
    "<a href=\"https://learn.microsoft.com/en-us/azure/quantum/concepts-the-qubitv\">[5]<a><a href=\"https://uwaterloo.ca/institute-for-quantum-computing/quantum-101/quantum-information-science-and-technology/what-qubit\">[4]<a></a>\n",
    "\n",
    "\n",
    "### In mathematical terms,\n",
    "The bit can be of two states, \"ON\" or \"OFF\". A cosntant 50/50 flip of a coin. \n",
    " - The states are mutually exclusive.\n",
    "\n",
    "While the Quibit can be expressed as vector spaces. Unlike classical bits, qubits can exist in a superposition of the states, which is expressed as a linear combination of the basis states |0⟩ and |1⟩.\n",
    "\n",
    "Mathematically, this superposition is denoted as α|0⟩ + β|1⟩, where α and β are complex numbers. The probabilities of measuring 0 or 1 are given by the squared magnitudes of α and β. <a href=\"https://medium.com/the-research-nest/understanding-the-theory-and-math-behind-qubits-2bf86a56441c\">[6]<a></a>\n",
    "\n",
    "\n",
    "\n",
    "![Alt text](https://www.researchgate.net/profile/Zahid-Hussain-63/publication/308414229/figure/fig2/AS:669710362353681@1536682801640/Figure-1-Classical-Bit-Vs-Qubit.ppm)\n",
    "\n",
    "  \n",
    "\n",
    "\n",
    "## \n",
    "\n",
    "***"
   ]
  },
  {
   "cell_type": "markdown",
   "metadata": {},
   "source": [
    "# Deutsch's Algorithm\n",
    "\n",
    "Deutsch's Algorithm, developed by David Deutsch in the 1980s, was one of the first quantum algorithms. It demonstrated that quantum computers could out do, the orignal ones in specific tasks. In the prior 'Black box', you'd guess whether a function is a constant(0 or 1)/or balanced (half 1, half 0) by querying th efunction with two queries. Deutdch's Algorithm allows it to use a quantum Trick\n",
    "\n",
    "### What Deutsch's Algorithm aims to solve\n",
    "\n",
    "## \n",
    "\n",
    "***"
   ]
  },
  {
   "cell_type": "markdown",
   "metadata": {},
   "source": [
    "# Circuit Design\n",
    "\n",
    "Here I will build a quantum Cricuit using Qisket, inlcuding any Oracle ciruits to demonstrate the Deutsch's algorithm <a href=\"https://qiskit.org/\">[5]</a>\n",
    "\n",
    " \n",
    "<a href=\"https://qiskit.org/\">[4]</a>\n",
    "\n",
    "<a href=\"https://towardsdatascience.com/behind-oracles-grovers-algorithm-amplitude-amplification-46b928b46f1e\">[6]</a>"
   ]
  },
  {
   "cell_type": "markdown",
   "metadata": {},
   "source": [
    "# TESTING FOR QISKET "
   ]
  },
  {
   "cell_type": "code",
   "execution_count": 3,
   "metadata": {},
   "outputs": [
    {
     "data": {
      "text/plain": [
       "[Qubit(QuantumRegister(2, 'q'), 0), Qubit(QuantumRegister(2, 'q'), 1)]"
      ]
     },
     "execution_count": 3,
     "metadata": {},
     "output_type": "execute_result"
    }
   ],
   "source": [
    "from qiskit import QuantumCircuit\n",
    " \n",
    "qc = QuantumCircuit(2)\n",
    "qc.qubits"
   ]
  },
  {
   "cell_type": "markdown",
   "metadata": {},
   "source": [
    "# Visual test"
   ]
  },
  {
   "cell_type": "code",
   "execution_count": 1,
   "metadata": {},
   "outputs": [
    {
     "name": "stdout",
     "output_type": "stream",
     "text": [
      "     ┌───┐     \n",
      "q_0: ┤ H ├──■──\n",
      "     └───┘┌─┴─┐\n",
      "q_1: ─────┤ X ├\n",
      "          └───┘\n"
     ]
    }
   ],
   "source": [
    "from qiskit import QuantumCircuit, Aer, transpile, assemble\n",
    "\n",
    "# simple quantum circuit\n",
    "qc = QuantumCircuit(2)\n",
    "qc.h(0)\n",
    "qc.cx(0, 1)\n",
    "\n",
    "print(qc)"
   ]
  },
  {
   "cell_type": "markdown",
   "metadata": {},
   "source": [
    "# This is for Deutsch's Algorithm proof in an oracle circuit design "
   ]
  },
  {
   "cell_type": "code",
   "execution_count": 5,
   "metadata": {},
   "outputs": [
    {
     "name": "stdout",
     "output_type": "stream",
     "text": [
      "Quantum Circuit:\n",
      "     ┌───┐               ┌───┐\n",
      "q_0: ┤ H ├────────────■──┤ H ├\n",
      "     ├───┤┌───┐┌───┐┌─┴─┐└───┘\n",
      "q_1: ┤ H ├┤ X ├┤ H ├┤ X ├─────\n",
      "     └───┘└───┘└───┘└───┘     \n",
      "\n",
      "Final Statevector:\n",
      "Statevector([ 0.5+0.0000000e+00j,  0.5-6.1232340e-17j,  0.5-6.1232340e-17j,\n",
      "             -0.5+1.2246468e-16j],\n",
      "            dims=(2, 2))\n"
     ]
    }
   ],
   "source": [
    "from qiskit import Aer, transpile, assemble, execute, QuantumCircuit\n",
    "from qiskit.visualization import plot_histogram\n",
    "\n",
    "def deutsch_algorithm(oracle_type):\n",
    "    # Create a quantum circuit with 2 qubits\n",
    "    qc = QuantumCircuit(2)\n",
    "\n",
    "    # Apply Hadamard gate to both qubits\n",
    "    qc.h([0, 1])\n",
    "\n",
    "    # Apply X and H gate to the second qubit (ancilla)\n",
    "    qc.x(1)\n",
    "    qc.h(1)\n",
    "\n",
    "    # Apply Deutsch Oracle\n",
    "    if oracle_type == 'balanced':\n",
    "        qc.cx(0, 1)\n",
    "\n",
    "    # Apply Hadamard gate to the first qubit\n",
    "    qc.h(0)\n",
    "\n",
    "    return qc\n",
    "\n",
    "# Choose the oracle type ('constant' or 'balanced')\n",
    "oracle_type = 'balanced'\n",
    "\n",
    "# Build the circuit\n",
    "circuit = deutsch_algorithm(oracle_type)\n",
    "\n",
    "# Visualize the circuit\n",
    "print(\"Quantum Circuit:\")\n",
    "print(circuit)\n",
    "\n",
    "# Choose the statevector simulator backend\n",
    "backend = Aer.get_backend('statevector_simulator')\n",
    "\n",
    "# Execute the circuit and get the statevector\n",
    "result = execute(circuit, backend).result()\n",
    "statevector = result.get_statevector()\n",
    "\n",
    "# Print the final statevector\n",
    "print(\"\\nFinal Statevector:\")\n",
    "print(statevector)"
   ]
  },
  {
   "cell_type": "markdown",
   "metadata": {},
   "source": [
    "# references\n",
    "\n",
    "<a>[1]</a> https://learning.quantum-computing.ibm.com/course/basics-of-quantum-information/single-systems#quantum-information\n",
    "\n",
    "<a>[2]</a> https://devtechnosys.com/insights/tech-comparison/quantum-computing-vs-classical-computing/#:~:text=The%20classical%20bit%20is%20the%20basic%20unit%20in,of%20a%20given%20input%20is%20always%20the%20same.\n",
    "\n",
    "<a>[3]</a> https://scienceexchange.caltech.edu/topics/quantum-science-explained/quantum-computing-computers\n",
    "\n",
    "<a>[4]</a> https://uwaterloo.ca/institute-for-quantum-computing/quantum-101/quantum-information-science-and-technology/what-qubit\n",
    "\n",
    "<a>[5]</a> https://learn.microsoft.com/en-us/azure/quantum/concepts-the-qubitv\n",
    "\n",
    "<a>[6]</a>https://medium.com/the-research-nest/understanding-the-theory-and-math-behind-qubits-2bf86a56441c\n",
    "\n",
    "<a>[7]</a>\n",
    "\n",
    "**Links**"
   ]
  }
 ],
 "metadata": {
  "kernelspec": {
   "display_name": "Python 3 (ipykernel)",
   "language": "python",
   "name": "python3"
  },
  "language_info": {
   "codemirror_mode": {
    "name": "ipython",
    "version": 3
   },
   "file_extension": ".py",
   "mimetype": "text/x-python",
   "name": "python",
   "nbconvert_exporter": "python",
   "pygments_lexer": "ipython3",
   "version": "3.9.13"
  }
 },
 "nbformat": 4,
 "nbformat_minor": 2
}
