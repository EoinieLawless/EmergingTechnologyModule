{
 "cells": [
  {
   "cell_type": "markdown",
   "metadata": {},
   "source": [
    "# Emerging Technology Project -\n",
    "## **The Deutsch–Jozsa algorithm** \n",
    "\n",
    "#### To first understand \"The Deutsch–Jozsa algorithm\", we have to first learn about the basics of Quantum Computing\n",
    "\n",
    "*** "
   ]
  },
  {
   "cell_type": "markdown",
   "metadata": {},
   "source": [
    "The point of this Journal is to\n",
    "\n",
    "- Explore Deutsch-jozha algorithm \n",
    "- how to solve the problem \n",
    "- build quantum circuits using Qiskit to implement the algorithm, inlcude oracle circuits to demonstrate \n",
    "- simulate the circuit to demonstrate the efficacy of the algorithm "
   ]
  },
  {
   "cell_type": "markdown",
   "metadata": {},
   "source": [
    "**Index Page**\n",
    "\n",
    ">[Introduction- Quantum Computing](#What-is-Quantum-Computing)\n",
    "\n",
    ">[Bits and Qubits ](#Bits-and-Qubits )\n",
    "\n",
    ">[Deutsch's Algorithm](#Deutsch's-Algorithm)\n",
    "\n",
    ">[Circuit Design](#Circuit-Design)\n",
    "\n",
    ">[References](#References)\n",
    "\n",
    ">[](#)\n",
    "\n",
    "***"
   ]
  },
  {
   "cell_type": "markdown",
   "metadata": {},
   "source": [
    "# What is Quantum Computing \n",
    "\n",
    "To know about what Quantum computing is, you need first an explaination of Classical computing.\n",
    "\n",
    "### Classical\n",
    "A classical computer, Like the one you are using right now,  uses bits as the basic unit of information, which can represent either a 0 or a 1 (These are also called states). A byte is a collection of these bits, which can be used to create larger units like characters and numbers.<a href=\"https://devtechnosys.com/insights/tech-comparison/quantum-computing-vs-classical-computing/#:~:text=The%20classical%20bit%20is%20the%20basic%20unit%20in,of%20a%20given%20input%20is%20always%20the%20same.\">[2]<a>\n",
    "\n",
    "![Alt text](https://tse4.mm.bing.net/th?id=OIP.GT4sK7zXQmuFxnd9ivs5IwHaE8&pid=Api&P=0&h=180)\n",
    "\n",
    "In classical computing, operations are performed on these bits, and programs are executed by manipulating sequences of bits. It's the foundation of most of the computing technology we use daily.\n",
    "\n",
    "\n",
    "<a href=\"https://learning.quantum-computing.ibm.com/course/basics-of-quantum-information/single-systems#quantum-information\">[1]<a>\n",
    "\n",
    "\n",
    "\n",
    "\n",
    "### Quantum\n",
    "Quantum computers, on the other hand, use quantum bits or qubits, which can represent 0, 1, or any combination of both simultaneously due to a property called superposition.\n",
    "<a href=\"https://learning.quantum-computing.ibm.com/course/basics-of-quantum-information/single-systems#quantum-information\">[1]<a>\n",
    "<a href=\"https://scienceexchange.caltech.edu/topics/quantum-science-explained/quantum-computing-computers\">[3]<a>\n",
    "\n",
    "## \n",
    "\n",
    "***"
   ]
  },
  {
   "cell_type": "markdown",
   "metadata": {},
   "source": [
    "# Bits and Qubits \n",
    "\n",
    "## \n",
    "\n",
    "***"
   ]
  },
  {
   "cell_type": "markdown",
   "metadata": {},
   "source": [
    "# Deutsch's Algorithm\n",
    "\n",
    "Deutsch's Algorithm, developed by David Deutsch in the 1980s, was one of the first quantum algorithms. It demonstrated that quantum computers could out do, the orignal ones in specific tasks. In the prior 'Black box', you'd guess whether a function is a constant(0 or 1)/or balanced (half 1, half 0) by querying th efunction with two queries. Deutdch's Algorithm allows it to use a quantum Trick\n",
    "\n",
    "### What Deutsch's Algorithm aims to solve\n",
    "\n",
    "## \n",
    "\n",
    "***"
   ]
  },
  {
   "cell_type": "markdown",
   "metadata": {},
   "source": [
    "# Circuit Design / Oracle Design\n",
    "\n",
    "Here I will build a quantum Cricuit using Qisket, inlcuding any Oracle ciruits to demonstrate the algorithm <a href=\"https://qiskit.org/\">[5]</a>\n",
    "\n",
    "In computer science \n",
    "<a href=\"https://qiskit.org/\">[4]</a>\n",
    "\n",
    "<a href=\"https://towardsdatascience.com/behind-oracles-grovers-algorithm-amplitude-amplification-46b928b46f1e\">[6]</a>"
   ]
  },
  {
   "cell_type": "markdown",
   "metadata": {},
   "source": [
    "# references\n",
    "\n",
    "<a>[1]</a> https://learning.quantum-computing.ibm.com/course/basics-of-quantum-information/single-systems#quantum-information\n",
    "\n",
    "<a>[2]</a> https://devtechnosys.com/insights/tech-comparison/quantum-computing-vs-classical-computing/#:~:text=The%20classical%20bit%20is%20the%20basic%20unit%20in,of%20a%20given%20input%20is%20always%20the%20same.\n",
    "\n",
    "<a>[3]</a> https://scienceexchange.caltech.edu/topics/quantum-science-explained/quantum-computing-computers\n",
    "\n",
    "<a>[4]</a>\n",
    "\n",
    "<a>[5]</a>\n",
    "\n",
    "<a>[6]</a>\n",
    "\n",
    "<a>[7]</a>\n",
    "\n",
    "**Links**"
   ]
  }
 ],
 "metadata": {
  "kernelspec": {
   "display_name": "Python 3 (ipykernel)",
   "language": "python",
   "name": "python3"
  },
  "language_info": {
   "codemirror_mode": {
    "name": "ipython",
    "version": 3
   },
   "file_extension": ".py",
   "mimetype": "text/x-python",
   "name": "python",
   "nbconvert_exporter": "python",
   "pygments_lexer": "ipython3",
   "version": "3.9.13"
  }
 },
 "nbformat": 4,
 "nbformat_minor": 2
}
