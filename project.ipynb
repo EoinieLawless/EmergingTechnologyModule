{
 "cells": [
  {
   "cell_type": "markdown",
   "metadata": {},
   "source": [
    "# Emerging Technology Project -\n",
    "## **The Deutsch–Jozsa algorithm** \n",
    "\n",
    "#### To first understand \"The Deutsch–Jozsa algorithm\", we have to first learn about the basics of Quantum Computing\n",
    "\n",
    "*** "
   ]
  },
  {
   "cell_type": "markdown",
   "metadata": {},
   "source": [
    "The point of this Journal is to\n",
    "\n",
    "- Explore Deutsch-jozha algorithm\n",
    "- how to solve the problem\n",
    "- build quantum circuits using Qiskit to implement the algorithm, inlcude oracle circuits to demonstrate"
   ]
  },
  {
   "cell_type": "markdown",
   "metadata": {},
   "source": [
    "**Index Page**\n",
    "\n",
    ">[Introduction- Quantum Computing](#What-is-Quantum-Computing)\n",
    "\n",
    ">[Bits and Qubits ](#Bits-and-Qubits )\n",
    "\n",
    ">[Deutsch's Algorithm](#Deutsch's-Algorithm)\n",
    "\n",
    ">[Circuit Design](#Circuit-Design)\n",
    "\n",
    ">[References](#References)\n",
    "\n",
    ">[](#)\n",
    "\n",
    "***"
   ]
  },
  {
   "cell_type": "markdown",
   "metadata": {},
   "source": [
    "# What is Quantum Computing \n",
    "\n",
    "#### To know more about what Quantum computing is, you need first an explanation of Classical computing and then quantum computing.\n",
    "\n",
    "### Classical Computing \n",
    "A classical computer, Like the one you are using right now, we use bits (short for \"binary digit\") as the basic unit of information. These are the smallest unit of data in computing, We represent these bits by either a 0 or a 1 (These are also called states). These are used for the operations performed to do complex calculations and programs by manipulating sequences of bits (often by being turned into Bytes, 8 Bits in a sequence to create a character). It's the foundation of most of the computing technology we use daily.<a href=\"https://learning.quantum-computing.ibm.com/course/basics-of-quantum-information/single-systems#quantum-information\">[1]<a></a>\n",
    "\n",
    "\n",
    "\n",
    "\n",
    "### Quantum Computing\n",
    "Quantum computers share many of the same qualities of classical computers, circuits, logic gates..etc. However they use quantum bits (Quibits for short), These can represent 0, 1, or any combination of both simultaneously due to a property called \"superposition\".  This superposition basically means it can be in between the 0 and 1 until its actually measured. \n",
    "So what can this Quibit be used for in terms of quantum computing? Quibits play an essential role to simulate molecular-level quantum mechanics, such as Quantum entanglement. This is multiple states of quibits together, which means they are linked (entangled) together, giving access to unknown corners of classical computing. <a href=\"https://learning.quantum-computing.ibm.com/course/basics-of-quantum-information/single-systems#quantum-information\">[1]<a><a href=\"https://scienceexchange.caltech.edu/topics/quantum-science-explained/quantum-computing-computers\">[3]<a></a>\n",
    "\n",
    "## \n",
    "\n",
    "***"
   ]
  },
  {
   "cell_type": "markdown",
   "metadata": {},
   "source": [
    "# Bits and Qubits \n",
    "\n",
    "### To look more at these Bits and Qubits mentioned before...\n",
    "\n",
    "*Bits* are building blocks to all the data and operations in processes in classical computers comprised of 0 or 1. This, as previously said, can can be grouped and turned into larger characters and numbers as Bytes (Groups of 8 bits). In more modern day computing, these bits are shown by the the lack or presence of an electrical signal, giving the 0 or 1. \n",
    "\n",
    "A *quibit* (Quantum bit) can also be comprised of 0 or 1, but also a quantum superpostion of 0 or 1. In short terms, this means the a quibit is a state between 0 and 1 until it is finally measured. \n",
    "<a href=\"https://learn.microsoft.com/en-us/azure/quantum/concepts-the-qubitv\">[5]<a><a href=\"https://uwaterloo.ca/institute-for-quantum-computing/quantum-101/quantum-information-science-and-technology/what-qubit\">[4]<a></a>\n",
    "\n",
    "https://o7planning.org/11573/history-of-bits-and-bytes-in-computer-science\n",
    "<br>\n",
    "<br>\n",
    "\n",
    "<div style=\"text-align:center\">\n",
    "  <img src=\"https://www.researchgate.net/profile/Zahid-Hussain-63/publication/308414229/figure/fig2/AS:669710362353681@1536682801640/Figure-1-Classical-Bit-Vs-Qubit.ppm\" alt=\"Alt text\" width=\"400\">\n",
    "</div>\n",
    "\n",
    "\n",
    "### In mathematical terms,\n",
    "The bit can be of two states, \"ON\" or \"OFF\". A cosntant 50/50 flip of a coin. \n",
    " - The states are mutually exclusive.\n",
    "\n",
    "While the Quibit can be expressed as vector spaces. Unlike classical bits, qubits can exist in a superposition of the states, which is expressed as a linear combination of the basis states |0⟩ and |1⟩.\n",
    "\n",
    "Mathematically, this superposition is denoted as α|0⟩ + β|1⟩, where α and β are complex numbers. The probabilities of measuring 0 or 1 are given by the squared magnitudes of α and β. <a href=\"https://medium.com/the-research-nest/understanding-the-theory-and-math-behind-qubits-2bf86a56441c\">[6]<a></a>\n",
    "\n",
    "\n",
    "\n",
    "## \n",
    "\n",
    "***"
   ]
  },
  {
   "cell_type": "markdown",
   "metadata": {},
   "source": [
    "# Deutsch's Algorithm\n",
    "\n",
    "Deutsch's Algorithm, developed by David Deutsch in the 1980s, was one of the first quantum algorithms. It demonstrated that quantum computers could out do, the orignal ones in specific tasks. In the prior 'Black box', you'd guess whether a function is a constant(0 or 1)/or balanced (half 1, half 0) by querying the function with two queries. Deutch's Algorithm allows it to use a quantum Trick\n",
    "\n",
    "### What Deutsch's Algorithm aims to solve\n",
    "\n",
    "- constant\n",
    "\n",
    "- Balanced \n",
    "\n",
    "https://people.vcu.edu/~sgharibian/courses/CMSC491/notes/Lecture%206%20-%20Deutsch%27s%20algorithm.pdf\n",
    "\n",
    "## \n",
    "\n",
    "***"
   ]
  },
  {
   "cell_type": "markdown",
   "metadata": {},
   "source": [
    "# Circuit Design\n",
    "\n",
    "In implementing Deutsch's Algorithm, quantum circuits play a crucial role. These circuits use quantum gates to manipulate qubits, similar to how classical circuits use logic gates to manipulate bits. To show Deutsch's Algorithm, typically We design a quantum circuit that includes:\n",
    "\n",
    " - A series of Hadamard gates to create superpositions of qubit states.\n",
    " - An 'oracle' function, a black-box operation that encodes the function being investigated.\n",
    " - Further quantum gates to exploit interference, enabling the algorithm to discern the nature of the function.\n",
    "\n",
    "Here I will build a quantum Cicuit using Qisket, inlcuding any Oracle ciruits to demonstrate the Deutsch's algorithm <a href=\"https://qiskit.org/\">[7]</a><a href=\"https://towardsdatascience.com/behind-oracles-grovers-algorithm-amplitude-amplification-46b928b46f1e\">[6]</a>"
   ]
  },
  {
   "cell_type": "markdown",
   "metadata": {},
   "source": [
    "## Qisket Test"
   ]
  },
  {
   "cell_type": "code",
   "execution_count": 3,
   "metadata": {},
   "outputs": [
    {
     "data": {
      "text/plain": [
       "[Qubit(QuantumRegister(2, 'q'), 0), Qubit(QuantumRegister(2, 'q'), 1)]"
      ]
     },
     "execution_count": 3,
     "metadata": {},
     "output_type": "execute_result"
    }
   ],
   "source": [
    "from qiskit import QuantumCircuit\n",
    " \n",
    "qc = QuantumCircuit(2)\n",
    "qc.qubits"
   ]
  },
  {
   "cell_type": "markdown",
   "metadata": {},
   "source": [
    "## Visual test"
   ]
  },
  {
   "cell_type": "code",
   "execution_count": 1,
   "metadata": {},
   "outputs": [
    {
     "name": "stdout",
     "output_type": "stream",
     "text": [
      "     ┌───┐     \n",
      "q_0: ┤ H ├──■──\n",
      "     └───┘┌─┴─┐\n",
      "q_1: ─────┤ X ├\n",
      "          └───┘\n"
     ]
    }
   ],
   "source": [
    "from qiskit import QuantumCircuit, Aer, transpile, assemble\n",
    "\n",
    "# simple quantum circuit\n",
    "qc = QuantumCircuit(2)\n",
    "qc.h(0)\n",
    "qc.cx(0, 1)\n",
    "\n",
    "print(qc)"
   ]
  },
  {
   "cell_type": "markdown",
   "metadata": {},
   "source": [
    "# This is for Deutsch's Algorithm proof in an oracle circuit design <a href=\"https://fullstackquantumcomputation.tech/blog/deutsch-algorithm/#:~:text=The%20Deutsch%20algorithm%20is%20a%20quantum%20algorithm%20capable,query%20to%20a%20quantum%20oracle%20for%20%20%28f%29.\">[8]<a></a>"
   ]
  },
  {
   "cell_type": "code",
   "execution_count": 5,
   "metadata": {},
   "outputs": [
    {
     "name": "stdout",
     "output_type": "stream",
     "text": [
      "Quantum Circuit:\n",
      "     ┌───┐               ┌───┐\n",
      "q_0: ┤ H ├────────────■──┤ H ├\n",
      "     ├───┤┌───┐┌───┐┌─┴─┐└───┘\n",
      "q_1: ┤ H ├┤ X ├┤ H ├┤ X ├─────\n",
      "     └───┘└───┘└───┘└───┘     \n",
      "\n",
      "Final Statevector:\n",
      "Statevector([ 0.5+0.0000000e+00j,  0.5-6.1232340e-17j,  0.5-6.1232340e-17j,\n",
      "             -0.5+1.2246468e-16j],\n",
      "            dims=(2, 2))\n"
     ]
    }
   ],
   "source": [
    "from qiskit import Aer, transpile, assemble, execute, QuantumCircuit\n",
    "from qiskit.visualization import plot_histogram\n",
    "\n",
    "def deutsch_algorithm(oracle_type):\n",
    "    # Create a quantum circuit with 2 qubits\n",
    "    qc = QuantumCircuit(2)\n",
    "\n",
    "    # Apply Hadamard gate to both qubits\n",
    "    qc.h([0, 1])\n",
    "\n",
    "    # Apply X and H gate to the second qubit (ancilla)\n",
    "    qc.x(1)\n",
    "    qc.h(1)\n",
    "\n",
    "    # Apply Deutsch Oracle\n",
    "    if oracle_type == 'balanced':\n",
    "        qc.cx(0, 1)\n",
    "\n",
    "    # Apply Hadamard gate to the first qubit\n",
    "    qc.h(0)\n",
    "\n",
    "    return qc\n",
    "\n",
    "# Choose the oracle type ('constant' or 'balanced')\n",
    "oracle_type = 'balanced'\n",
    "\n",
    "# Build the circuit\n",
    "circuit = deutsch_algorithm(oracle_type)\n",
    "\n",
    "# Visualize the circuit\n",
    "print(\"Quantum Circuit:\")\n",
    "print(circuit)\n",
    "\n",
    "# Choose the statevector simulator backend\n",
    "backend = Aer.get_backend('statevector_simulator')\n",
    "\n",
    "# Execute the circuit and get the statevector\n",
    "result = execute(circuit, backend).result()\n",
    "statevector = result.get_statevector()\n",
    "\n",
    "# Print the final statevector\n",
    "print(\"\\nFinal Statevector:\")\n",
    "print(statevector)"
   ]
  },
  {
   "cell_type": "markdown",
   "metadata": {},
   "source": [
    "In this circuit I have correctly implemented Deutsch's algorithm by including all necessary components: \n",
    "- Hadamard gates for making superpositions,\n",
    "- an oracle function to encode the problem,\n",
    "- more quantum gates to create interference patterns that show information about the oracle.\n",
    "\n",
    "The final statevector printed by the code shows the outcome of the quantum circuit, with analysis, this reveals the nature of the oracle.\n",
    "\n",
    "In conclusion, this code demonstates Deutsch's Algorithm by setting up a quantum circuit that can identify between constant and balanced oracle functions in a single evaluation. This is large leap ahead of the classical algorithms which would require two evaluations to get the same information, showing off the potential of quantum computing and solving certian types of problems more efficiently."
   ]
  },
  {
   "cell_type": "markdown",
   "metadata": {},
   "source": [
    "# references\n",
    "\n",
    "<a>[1]</a> https://learning.quantum-computing.ibm.com/course/basics-of-quantum-information/single-systems#quantum-information\n",
    "\n",
    "<a>[2]</a> https://devtechnosys.com/insights/tech-comparison/quantum-computing-vs-classical-computing/#:~:text=The%20classical%20bit%20is%20the%20basic%20unit%20in,of%20a%20given%20input%20is%20always%20the%20same.\n",
    "\n",
    "<a>[3]</a> https://scienceexchange.caltech.edu/topics/quantum-science-explained/quantum-computing-computers\n",
    "\n",
    "<a>[4]</a> https://uwaterloo.ca/institute-for-quantum-computing/quantum-101/quantum-information-science-and-technology/what-qubit\n",
    "\n",
    "<a>[5]</a> https://learn.microsoft.com/en-us/azure/quantum/concepts-the-qubitv\n",
    "\n",
    "<a>[6]</a>https://medium.com/the-research-nest/understanding-the-theory-and-math-behind-qubits-2bf86a56441c\n",
    "\n",
    "<a>[7]</a>https://qiskit.org/\n",
    "\n",
    "<a>[8]</a>https://fullstackquantumcomputation.tech/blog/deutsch-algorithm/#:~:text=The%20Deutsch%20algorithm%20is%20a%20quantum%20algorithm%20capable,query%20to%20a%20quantum%20oracle%20for%20%20%28f%29.\n",
    "\n",
    "<a>[9]</a>https://people.vcu.edu/~sgharibian/courses/CMSC491/notes/Lecture%206%20-%20Deutsch%27s%20algorithm.pdf\n",
    "\n",
    "\n",
    "**Links**"
   ]
  }
 ],
 "metadata": {
  "kernelspec": {
   "display_name": "Python 3 (ipykernel)",
   "language": "python",
   "name": "python3"
  },
  "language_info": {
   "codemirror_mode": {
    "name": "ipython",
    "version": 3
   },
   "file_extension": ".py",
   "mimetype": "text/x-python",
   "name": "python",
   "nbconvert_exporter": "python",
   "pygments_lexer": "ipython3",
   "version": "3.9.13"
  }
 },
 "nbformat": 4,
 "nbformat_minor": 2
}
